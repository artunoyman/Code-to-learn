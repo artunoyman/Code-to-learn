{
 "cells": [
  {
   "cell_type": "markdown",
   "metadata": {},
   "source": [
    "# K-Nearest Neighbors (KNN) Implementation\n",
    "\n",
    "This notebook implements a K-Nearest Neighbors (KNN) classifier from scratch. The implementation includes:\n",
    "- Data generation for two classes\n",
    "- Distance calculation\n",
    "- Neighbor finding\n",
    "- Classification\n",
    "- Visualization of results\n",
    "\n",
    "Originally created by: hilmi"
   ]
  },
  {
   "cell_type": "markdown",
   "metadata": {},
   "source": [
    "## 1. Import Required Libraries and Set Random Seed"
   ]
  },
  {
   "cell_type": "code",
   "execution_count": null,
   "metadata": {},
   "outputs": [],
   "source": [
    "import numpy as np\n",
    "import matplotlib.pyplot as plt\n",
    "from collections import Counter\n",
    "\n",
    "# Set random seed for reproducibility\n",
    "np.random.seed(42)"
   ]
  },
  {
   "cell_type": "markdown",
   "metadata": {},
   "source": [
    "## 2. Generate Synthetic Data\n",
    "\n",
    "Create two classes of data points with different centers:"
   ]
  },
  {
   "cell_type": "code",
   "execution_count": null,
   "metadata": {},
   "outputs": [],
   "source": [
    "# Generate 50 points for Class 0\n",
    "class0 = np.random.randn(50, 2) + np.array([2, 2])\n",
    "\n",
    "# Generate 50 points for Class 1\n",
    "class1 = np.random.randn(50, 2) + np.array([7, 7])\n",
    "\n",
    "# Combine the data\n",
    "X_train = np.vstack((class0, class1))\n",
    "y_train = np.array([0]*50 + [1]*50)"
   ]
  },
  {
   "cell_type": "markdown",
   "metadata": {},
   "source": [
    "## 3. Define Core Functions\n",
    "\n",
    "### 3.1 Euclidean Distance Function"
   ]
  },
  {
   "cell_type": "code",
   "execution_count": null,
   "metadata": {},
   "outputs": [],
   "source": [
    "def euclidean_distance(point1, point2):\n",
    "    \"\"\"\n",
    "    Calculate the Euclidean distance between two points.\n",
    "    \n",
    "    Parameters:\n",
    "        point1 (array-like): Coordinates of the first point.\n",
    "        point2 (array-like): Coordinates of the second point.\n",
    "    \n",
    "    Returns:\n",
    "        float: Euclidean distance.\n",
    "    \"\"\"\n",
    "    distance = np.sqrt(np.sum((point1 - point2) ** 2))\n",
    "    return distance"
   ]
  },
  {
   "cell_type": "markdown",
   "metadata": {},
   "source": [
    "### 3.2 K-Nearest Neighbors Function"
   ]
  },
  {
   "cell_type": "code",
   "execution_count": null,
   "metadata": {},
   "outputs": [],
   "source": [
    "def get_k_neighbors(X_train, y_train, test_point, k):\n",
    "    \"\"\"\n",
    "    Find the k nearest neighbors of the test_point.\n",
    "    \n",
    "    Parameters:\n",
    "        X_train (ndarray): Training feature data.\n",
    "        y_train (ndarray): Training labels.\n",
    "        test_point (array-like): The data point to classify.\n",
    "        k (int): Number of neighbors to find.\n",
    "    \n",
    "    Returns:\n",
    "        list: Labels of the k nearest neighbors.\n",
    "    \"\"\"\n",
    "    distances = []\n",
    "    for idx, point in enumerate(X_train):\n",
    "        distance = euclidean_distance(point, test_point)\n",
    "        distances.append((distance, y_train[idx]))\n",
    "    # Sort based on distance\n",
    "    distances.sort(key=lambda x: x[0])\n",
    "    # Get the labels of the k nearest neighbors\n",
    "    neighbors = [label for (_, label) in distances[:k]]\n",
    "    return neighbors"
   ]
  },
  {
   "cell_type": "markdown",
   "metadata": {},
   "source": [
    "### 3.3 Classification Function"
   ]
  },
  {
   "cell_type": "code",
   "execution_count": null,
   "metadata": {},
   "outputs": [],
   "source": [
    "def predict_classification(X_train, y_train, test_point, k):\n",
    "    \"\"\"\n",
    "    Predict the class of the test_point based on k nearest neighbors.\n",
    "    \n",
    "    Parameters:\n",
    "        X_train (ndarray): Training feature data.\n",
    "        y_train (ndarray): Training labels.\n",
    "        test_point (array-like): The data point to classify.\n",
    "        k (int): Number of neighbors to consider.\n",
    "    \n",
    "    Returns:\n",
    "        int: Predicted class label.\n",
    "    \"\"\"\n",
    "    neighbors = get_k_neighbors(X_train, y_train, test_point, k)\n",
    "    # Count the occurrences of each class in neighbors\n",
    "    vote_counts = Counter(neighbors)\n",
    "    # Select the class with the highest count\n",
    "    predicted_class = vote_counts.most_common(1)[0][0]\n",
    "    return predicted_class"
   ]
  },
  {
   "cell_type": "markdown",
   "metadata": {},
   "source": [
    "### 3.4 Visualization Function"
   ]
  },
  {
   "cell_type": "code",
   "execution_count": null,
   "metadata": {},
   "outputs": [],
   "source": [
    "def plot_knn_classification(X_train, y_train, test_point, k):\n",
    "    \"\"\"\n",
    "    Plot the kNN classification result for a single test point.\n",
    "    \n",
    "    Parameters:\n",
    "        X_train (ndarray): Training feature data.\n",
    "        y_train (ndarray): Training labels.\n",
    "        test_point (array-like): The data point to classify.\n",
    "        k (int): Number of neighbors to consider.\n",
    "    \"\"\"\n",
    "    \n",
    "    predicted_class = predict_classification(X_train, y_train, test_point, k)\n",
    "    \n",
    "    # Separate the training points by class for plotting\n",
    "    class0 = X_train[y_train == 0]\n",
    "    class1 = X_train[y_train == 1]\n",
    "    \n",
    "    plt.figure(figsize=(8, 6))\n",
    "    plt.scatter(class0[:, 0], class0[:, 1], color='blue', label='Class 0')\n",
    "    plt.scatter(class1[:, 0], class1[:, 1], color='red', label='Class 1')\n",
    "    \n",
    "    # Highlight the test point\n",
    "    plt.scatter(test_point[0], test_point[1], color='green', marker='*', s=200, label='Test Point')\n",
    "    \n",
    "    # Find the k nearest neighbors\n",
    "    distances = [euclidean_distance(point, test_point) for point in X_train]\n",
    "    nearest_indices = np.argsort(distances)[:k]\n",
    "    nearest_points = X_train[nearest_indices]\n",
    "    \n",
    "    # Plot neighbors\n",
    "    plt.scatter(nearest_points[:, 0], nearest_points[:, 1], \n",
    "                facecolors='none', edgecolors='k', s=150, \n",
    "                label=f'{k} Nearest Neighbors')\n",
    "    \n",
    "    # Draw lines from test point to neighbors\n",
    "    for neighbor in nearest_points:\n",
    "        plt.plot([test_point[0], neighbor[0]], [test_point[1], neighbor[1]], 'k--', linewidth=0.5)\n",
    "    \n",
    "    plt.title(f'kNN Classification (k={k})\\nPredicted Class: {predicted_class}')\n",
    "    plt.xlabel('Feature 1')\n",
    "    plt.ylabel('Feature 2')\n",
    "    plt.legend()\n",
    "    plt.show()"
   ]
  },
  {
   "cell_type": "markdown",
   "metadata": {},
   "source": [
    "## 4. Example Usage\n",
    "\n",
    "Let's test our KNN implementation with multiple test points:"
   ]
  },
  {
   "cell_type": "code",
   "execution_count": null,
   "metadata": {},
   "outputs": [],
   "source": [
    "test_points = [np.array([4, 4]), np.array([6, 5]), np.array([5, 7])]\n",
    "\n",
    "for tp in test_points:\n",
    "    plot_knn_classification(X_train, y_train, tp, k=5)"
   ]
  }
 ],
 "metadata": {
  "kernelspec": {
   "display_name": "Python 3",
   "language": "python",
   "name": "python3"
  },
  "language_info": {
   "codemirror_mode": {
    "name": "ipython",
    "version": 3
   },
   "file_extension": ".py",
   "mimetype": "text/x-python",
   "name": "python",
   "nbconvert_exporter": "python",
   "pygments_lexer": "ipython3",
   "version": "3.8.0"
  }
 },
 "nbformat": 4,
 "nbformat_minor": 4
}
