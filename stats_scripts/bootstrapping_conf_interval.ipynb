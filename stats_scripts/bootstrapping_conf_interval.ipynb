{
 "cells": [
  {
   "cell_type": "markdown",
   "id": "02d74e7a",
   "metadata": {},
   "source": [
    "# Bootstrapping Confidence Interval\n",
    "\n",
    "This notebook demonstrates how to use bootstrapping to estimate the confidence interval of a sample mean.\n",
    "\n",
    "## Overview\n",
    "\n",
    "Bootstrapping is a resampling technique that allows us to estimate the sampling distribution of a statistic by repeatedly sampling with replacement from the original data. In this case, we estimate the confidence interval of the mean height from a given dataset.\n"
   ]
  },
  {
   "cell_type": "markdown",
   "id": "71d05825",
   "metadata": {},
   "source": [
    "## Importing Required Libraries\n",
    "\n",
    "We begin by importing the necessary Python libraries:\n",
    "- `numpy` for numerical computations\n",
    "- `matplotlib.pyplot` for visualization\n",
    "- `confidence_interval` for computing the confidence interval (from an external module)\n"
   ]
  },
  {
   "cell_type": "code",
   "execution_count": 1,
   "id": "7c769673",
   "metadata": {},
   "outputs": [
    {
     "ename": "ModuleNotFoundError",
     "evalue": "No module named 'confidence_interval'",
     "output_type": "error",
     "traceback": [
      "\u001b[0;31m---------------------------------------------------------------------------\u001b[0m",
      "\u001b[0;31mModuleNotFoundError\u001b[0m                       Traceback (most recent call last)",
      "Cell \u001b[0;32mIn[1], line 3\u001b[0m\n\u001b[1;32m      1\u001b[0m \u001b[38;5;28;01mimport\u001b[39;00m \u001b[38;5;21;01mnumpy\u001b[39;00m \u001b[38;5;28;01mas\u001b[39;00m \u001b[38;5;21;01mnp\u001b[39;00m\n\u001b[1;32m      2\u001b[0m \u001b[38;5;28;01mimport\u001b[39;00m \u001b[38;5;21;01mmatplotlib\u001b[39;00m\u001b[38;5;21;01m.\u001b[39;00m\u001b[38;5;21;01mpyplot\u001b[39;00m \u001b[38;5;28;01mas\u001b[39;00m \u001b[38;5;21;01mplt\u001b[39;00m\n\u001b[0;32m----> 3\u001b[0m \u001b[38;5;28;01mfrom\u001b[39;00m \u001b[38;5;21;01mconfidence_interval\u001b[39;00m \u001b[38;5;28;01mimport\u001b[39;00m confidence_interval\n",
      "\u001b[0;31mModuleNotFoundError\u001b[0m: No module named 'confidence_interval'"
     ]
    }
   ],
   "source": [
    "import numpy as np\n",
    "import matplotlib.pyplot as plt\n",
    "from confidence_interval import confidence_interval"
   ]
  },
  {
   "cell_type": "markdown",
   "id": "07d96432",
   "metadata": {},
   "source": [
    "## Sample Data\n",
    "\n",
    "We create a dataset of heights (in inches) as a NumPy array and compute the sample mean.\n"
   ]
  },
  {
   "cell_type": "code",
   "execution_count": null,
   "id": "2d728cfb",
   "metadata": {},
   "outputs": [],
   "source": [
    "# Create a sample of heights (in inches)\n",
    "heights = np.array([68, 72, 63, 71, 64, 70, 68, 69, 67, 66, 70, 69, 68, 73, 72, 66, 70, 70, 71, 68])\n",
    "\n",
    "# Calculate the mean height of the sample\n",
    "sample_mean = np.mean(heights)\n",
    "print(\"Sample Mean:\", sample_mean)"
   ]
  },
  {
   "cell_type": "markdown",
   "id": "ce109e30",
   "metadata": {},
   "source": [
    "## Bootstrapping\n",
    "\n",
    "We resample the dataset with replacement multiple times, computing the mean for each resampled dataset to create a distribution of means.\n"
   ]
  },
  {
   "cell_type": "code",
   "execution_count": null,
   "id": "e2f29557",
   "metadata": {},
   "outputs": [],
   "source": [
    "# Resample the data with replacement and calculate the mean for each sample\n",
    "bootstrap_means = []\n",
    "num_samples = 1000\n",
    "\n",
    "for i in range(num_samples):\n",
    "    resampled_data = np.random.choice(heights, size=len(heights), replace=True)\n",
    "    bootstrap_mean = np.mean(resampled_data)\n",
    "    bootstrap_means.append(bootstrap_mean)"
   ]
  },
  {
   "cell_type": "markdown",
   "id": "ecd50c48",
   "metadata": {},
   "source": [
    "## Computing the Confidence Interval\n",
    "\n",
    "We now compute and display the confidence interval using the `confidence_interval` function.\n"
   ]
  },
  {
   "cell_type": "code",
   "execution_count": null,
   "id": "8c580276",
   "metadata": {},
   "outputs": [],
   "source": [
    "alpha = 5  # Confidence level\n",
    "confidence_interval(bootstrap_means, alpha)"
   ]
  }
 ],
 "metadata": {
  "kernelspec": {
   "display_name": "Python 3 (ipykernel)",
   "language": "python",
   "name": "python3"
  },
  "language_info": {
   "codemirror_mode": {
    "name": "ipython",
    "version": 3
   },
   "file_extension": ".py",
   "mimetype": "text/x-python",
   "name": "python",
   "nbconvert_exporter": "python",
   "pygments_lexer": "ipython3",
   "version": "3.12.7"
  }
 },
 "nbformat": 4,
 "nbformat_minor": 5
}
