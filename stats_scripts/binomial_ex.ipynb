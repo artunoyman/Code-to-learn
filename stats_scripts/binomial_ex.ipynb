{
 "cells": [
  {
   "cell_type": "markdown",
   "id": "0066f992",
   "metadata": {},
   "source": [
    "# Binomial Example\n",
    "\n",
    "In this notebook, we calculate the probability of a player hitting a target exactly 7 times out of 10 shots, given a 70% chance of hitting the target with each shot. The computation uses the binomial probability formula."
   ]
  },
  {
   "cell_type": "code",
   "execution_count": 1,
   "id": "ba280bf8",
   "metadata": {},
   "outputs": [
    {
     "name": "stdout",
     "output_type": "stream",
     "text": [
      "The probability of hitting the target exactly 7 times out of 10 shots is: 0.2668\n"
     ]
    }
   ],
   "source": [
    "from scipy.special import comb\n",
    "\n",
    "# Probability of hitting the target\n",
    "p = 0.7\n",
    "\n",
    "# Number of shots\n",
    "n = 10\n",
    "\n",
    "# Number of times the target is hit\n",
    "k = 7\n",
    "\n",
    "# Calculate the probability using the explicit formula\n",
    "probability = comb(n, k) * (p ** k) * ((1 - p) ** (n - k))\n",
    "\n",
    "# Print the result\n",
    "print(f\"The probability of hitting the target exactly {k} times out of {n} shots is: {probability:.4f}\")"
   ]
  },
  {
   "cell_type": "code",
   "execution_count": null,
   "id": "546c675e-c791-4748-a2ef-9d4741f227a9",
   "metadata": {},
   "outputs": [],
   "source": []
  }
 ],
 "metadata": {
  "kernelspec": {
   "display_name": "Python 3 (ipykernel)",
   "language": "python",
   "name": "python3"
  },
  "language_info": {
   "codemirror_mode": {
    "name": "ipython",
    "version": 3
   },
   "file_extension": ".py",
   "mimetype": "text/x-python",
   "name": "python",
   "nbconvert_exporter": "python",
   "pygments_lexer": "ipython3",
   "version": "3.12.7"
  }
 },
 "nbformat": 4,
 "nbformat_minor": 5
}
