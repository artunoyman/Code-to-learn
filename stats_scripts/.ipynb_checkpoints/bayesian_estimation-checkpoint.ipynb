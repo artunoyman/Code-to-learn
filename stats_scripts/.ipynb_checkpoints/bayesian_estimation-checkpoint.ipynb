{
 "cells": [
  {
   "cell_type": "markdown",
   "id": "13251c08",
   "metadata": {},
   "source": [
    "# Bayesian Estimation Example\n",
    "This notebook demonstrates Bayesian estimation of a normal distribution's mean and standard deviation. We will generate synthetic data, define prior distributions, and compute the posterior distributions for the parameters."
   ]
  },
  {
   "cell_type": "markdown",
   "id": "79aafb2f",
   "metadata": {},
   "source": [
    "## Importing Required Libraries\n",
    "We need `numpy` for numerical computations, `matplotlib.pyplot` for visualization, and `scipy` for special functions used in probability distributions."
   ]
  },
  {
   "cell_type": "code",
   "execution_count": null,
   "id": "d6ed8e2d",
   "metadata": {},
   "outputs": [],
   "source": [
    "import numpy as np\n",
    "import matplotlib.pyplot as plt\n",
    "import scipy\n"
   ]
  },
  {
   "cell_type": "markdown",
   "id": "9bc54638",
   "metadata": {},
   "source": [
    "## Generating Example Data\n",
    "We generate 100 data points sampled from a normal distribution with a true mean of 5 and a standard deviation of 1."
   ]
  },
  {
   "cell_type": "code",
   "execution_count": null,
   "id": "b304f67d",
   "metadata": {},
   "outputs": [],
   "source": [
    "np.random.seed(123)\n",
    "true_mean = 5\n",
    "data = np.random.normal(loc=true_mean, scale=1, size=100)"
   ]
  },
  {
   "cell_type": "markdown",
   "id": "693fac90",
   "metadata": {},
   "source": [
    "## Defining Prior Distributions\n",
    "We assume a normal prior for the mean with mean 0 and standard deviation 10. The standard deviation's prior is scaled by 1."
   ]
  },
  {
   "cell_type": "code",
   "execution_count": null,
   "id": "f92648ca",
   "metadata": {},
   "outputs": [],
   "source": [
    "prior_mean_mu = 0\n",
    "prior_mean_sd = 10\n",
    "prior_sd_scale = 1"
   ]
  },
  {
   "cell_type": "markdown",
   "id": "d0868788",
   "metadata": {},
   "source": [
    "## Defining the Likelihood Function\n",
    "The likelihood function is the probability of observing the data given the mean and standard deviation."
   ]
  },
  {
   "cell_type": "code",
   "execution_count": null,
   "id": "ca972581",
   "metadata": {},
   "outputs": [],
   "source": [
    "def likelihood(data, mean, sd):\n",
    "    return np.prod(np.exp(-0.5 * ((data - mean) / sd) ** 2) / (np.sqrt(2 * np.pi) * sd))"
   ]
  },
  {
   "cell_type": "markdown",
   "id": "a96399dc",
   "metadata": {},
   "source": [
    "## Computing the Posterior Distribution\n",
    "The posterior distribution is updated based on the observed data. We compute posterior parameters for the mean and standard deviation."
   ]
  },
  {
   "cell_type": "code",
   "execution_count": null,
   "id": "4ab657d1",
   "metadata": {},
   "outputs": [],
   "source": [
    "def posterior(data, prior_mean_mu, prior_mean_sd, prior_sd_scale):\n",
    "    posterior_mean_sd = 1 / np.sqrt(1 / prior_mean_sd ** 2 + len(data) / prior_sd_scale ** 2)\n",
    "    posterior_mean_mu = posterior_mean_sd ** 2 * (prior_mean_mu / prior_mean_sd ** 2 + np.sum(data) / prior_sd_scale ** 2)\n",
    "    posterior_sd_df = len(data) - 1\n",
    "    posterior_sd_scale = np.sqrt(np.sum((data - posterior_mean_mu) ** 2) / posterior_sd_df)\n",
    "    return posterior_mean_mu, posterior_mean_sd, posterior_sd_scale, posterior_sd_df\n",
    "\n",
    "posterior_mean_mu, posterior_mean_sd, posterior_sd_scale, posterior_sd_df = posterior(data, prior_mean_mu, prior_mean_sd, prior_sd_scale)"
   ]
  },
  {
   "cell_type": "markdown",
   "id": "0da61652",
   "metadata": {},
   "source": [
    "## Plotting Posterior Distributions\n",
    "We visualize the posterior distributions for the mean and standard deviation."
   ]
  },
  {
   "cell_type": "code",
   "execution_count": null,
   "id": "9d050071",
   "metadata": {},
   "outputs": [],
   "source": [
    "x = np.linspace(posterior_mean_mu - 4 * posterior_mean_sd, posterior_mean_mu + 4 * posterior_mean_sd, 100)\n",
    "posterior_mean = np.exp(-0.5 * (x - posterior_mean_mu) ** 2 / posterior_mean_sd ** 2) / (np.sqrt(2 * np.pi) * posterior_mean_sd)\n",
    "posterior_sd = posterior_sd_scale ** posterior_sd_df / (\n",
    "    np.power(x, posterior_sd_df / 2) * np.exp(posterior_sd_df / 2 * np.log(posterior_sd_scale) + np.log(np.sqrt(2 * np.pi) * x) - np.log(scipy.special.gamma(posterior_sd_df / 2))))\n",
    "\n",
    "plt.plot(x, posterior_mean, label='Posterior for Mean')\n",
    "plt.plot(x, posterior_sd, label='Posterior for SD')\n",
    "plt.legend()\n",
    "plt.show()"
   ]
  },
  {
   "cell_type": "markdown",
   "id": "c8c8344f",
   "metadata": {},
   "source": [
    "## Bayesian Estimation using PyMC3 (Commented Out)\n",
    "This section provides an alternative implementation using PyMC3 for Markov Chain Monte Carlo (MCMC) sampling.\n",
    "If you have PyMC3 installed, you can uncomment and run this section."
   ]
  },
  {
   "cell_type": "code",
   "execution_count": null,
   "id": "35b907e8",
   "metadata": {},
   "outputs": [],
   "source": [
    "# import pymc3 as pm\n",
    "# with pm.Model() as model:\n",
    "#     mean = pm.Normal('mean', mu=0, sd=10)\n",
    "#     sd = pm.HalfNormal('sd', sd=1)\n",
    "#     obs = pm.Normal('obs', mu=mean, sd=sd, observed=data)\n",
    "#     trace = pm.sample(1000, tune=1000)\n",
    "# pm.plot_posterior(trace, var_names=['mean', 'sd'], credible_interval=0.95)\n",
    "# plt.show()"
   ]
  }
 ],
 "metadata": {},
 "nbformat": 4,
 "nbformat_minor": 5
}
