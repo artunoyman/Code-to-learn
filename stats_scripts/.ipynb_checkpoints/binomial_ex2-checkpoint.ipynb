{
 "cells": [
  {
   "cell_type": "markdown",
   "metadata": {},
   "source": [
    "# Binomial Example Notebook\n",
    "\n",
    "This notebook calculates the probability of getting 4 heads out of 10 coin tosses using the binomial distribution. The code demonstrates how to use the `scipy.special.comb` function to compute the binomial coefficient and calculates the probability with explanations."
   ]
  },
  {
   "cell_type": "code",
   "execution_count": null,
   "metadata": {},
   "outputs": [],
   "source": [
    "from scipy.special import comb\n",
    "\n",
    "# Set the probability of getting heads for a fair coin\n",
    "p = 0.5\n",
    "\n",
    "# Total number of coin tosses\n",
    "n = 10\n",
    "\n",
    "# Desired number of heads\n",
    "k = 4\n",
    "\n",
    "# Calculate the probability of exactly k heads in n tosses\n",
    "probability = comb(n, k) * (p ** k) * ((1 - p) ** (n - k))\n",
    "\n",
    "# Print the result formatted to 4 decimal places\n",
    "print(f\"The probability of getting {k} heads out of {n} coin tosses is: {probability:.4f}\")"
   ]
  }
 ],
 "metadata": {
  "kernelspec": {
   "display_name": "Python 3",
   "language": "python",
   "name": "python3"
  },
  "language_info": {
   "file_extension": ".py",
   "mimetype": "text/x-python",
   "name": "python",
   "version": "3.x"
  }
 },
 "nbformat": 4,
 "nbformat_minor": 2
}
