{
 "cells": [
  {
   "cell_type": "markdown",
   "id": "8befe771",
   "metadata": {},
   "source": [
    "\n",
    "# Chi-Square Test for Ice Cream Preference\n",
    "\n",
    "This notebook analyzes whether there is a significant preference for different flavors of ice cream among adults using a Chi-Square test of independence.\n",
    "\n",
    "## Problem Statement\n",
    "\n",
    "A company surveys 200 adults to determine whether their preference for ice cream flavors (chocolate, vanilla, and strawberry) is equal across two groups (Group A and Group B).\n",
    "\n",
    "### Hypotheses\n",
    "\n",
    "- **Null Hypothesis (H₀):** The preference for chocolate, vanilla, and strawberry flavors is equal among adults.\n",
    "- **Alternative Hypothesis (Hₐ):** The preference for chocolate, vanilla, and strawberry flavors is not equal among adults.\n",
    "\n",
    "We use the **Chi-Square Test of Independence** to evaluate these hypotheses.\n",
    "\n",
    "---\n"
   ]
  },
  {
   "cell_type": "code",
   "execution_count": null,
   "id": "1c6a239e",
   "metadata": {},
   "outputs": [],
   "source": [
    "\n",
    "# Import necessary libraries\n",
    "import numpy as np\n",
    "from scipy.stats import chi2_contingency\n"
   ]
  },
  {
   "cell_type": "markdown",
   "id": "7357db24",
   "metadata": {},
   "source": [
    "\n",
    "## Step 1: Define the Observed Frequencies\n",
    "\n",
    "We create a contingency table representing the observed counts of ice cream preferences in two groups.\n"
   ]
  },
  {
   "cell_type": "code",
   "execution_count": null,
   "id": "9d7754d6",
   "metadata": {},
   "outputs": [],
   "source": [
    "\n",
    "# Create a contingency table (observed frequencies)\n",
    "observed = np.array([[70, 80, 50],  # Group A: Chocolate, Vanilla, Strawberry\n",
    "                     [50, 70, 80]]) # Group B: Chocolate, Vanilla, Strawberry\n",
    "\n",
    "# Display the observed frequencies\n",
    "print(\"Observed Frequencies:\")\n",
    "print(observed)\n"
   ]
  },
  {
   "cell_type": "markdown",
   "id": "afd8cb4e",
   "metadata": {},
   "source": [
    "\n",
    "## Step 2: Perform the Chi-Square Test\n",
    "\n",
    "We use `scipy.stats.chi2_contingency` to compute the test statistic and p-value.\n"
   ]
  },
  {
   "cell_type": "code",
   "execution_count": null,
   "id": "05ac9df4",
   "metadata": {},
   "outputs": [],
   "source": [
    "\n",
    "# Perform the chi-square test of independence\n",
    "chi2, p, _, expected = chi2_contingency(observed)\n",
    "\n",
    "# Print the test statistic and p-value\n",
    "print(\"Chi-square statistic:\", chi2)\n",
    "print(\"p-value:\", p)\n"
   ]
  },
  {
   "cell_type": "markdown",
   "id": "d4ba99e3",
   "metadata": {},
   "source": [
    "\n",
    "## Step 3: Interpret the Results\n",
    "\n",
    "The significance level is set at **α = 0.05**. If the p-value is less than α, we reject the null hypothesis.\n"
   ]
  },
  {
   "cell_type": "code",
   "execution_count": null,
   "id": "a15e8824",
   "metadata": {},
   "outputs": [],
   "source": [
    "\n",
    "# Significance level\n",
    "alpha = 0.05  \n",
    "\n",
    "# Decision rule\n",
    "if p < alpha:\n",
    "    print(\"Reject the null hypothesis. There is evidence of a significant preference for flavors among adults.\")\n",
    "else:\n",
    "    print(\"Fail to reject the null hypothesis. There is no evidence of a significant preference for flavors among adults.\")\n"
   ]
  },
  {
   "cell_type": "markdown",
   "id": "dd507baf",
   "metadata": {},
   "source": [
    "\n",
    "## Step 4: Expected Frequencies\n",
    "\n",
    "The test also provides expected frequencies under the assumption that the null hypothesis is true. We print these expected values.\n"
   ]
  },
  {
   "cell_type": "code",
   "execution_count": null,
   "id": "8cff6c29",
   "metadata": {},
   "outputs": [],
   "source": [
    "\n",
    "# Print the expected frequencies\n",
    "print(\"Expected Frequencies:\")\n",
    "print(expected)\n"
   ]
  },
  {
   "cell_type": "markdown",
   "id": "65982b15",
   "metadata": {},
   "source": [
    "\n",
    "## Conclusion\n",
    "\n",
    "Based on the p-value, we determine whether there is enough statistical evidence to suggest that adults prefer certain ice cream flavors over others. If the null hypothesis is rejected, it indicates a significant difference in preference among the flavors.\n"
   ]
  }
 ],
 "metadata": {},
 "nbformat": 4,
 "nbformat_minor": 5
}