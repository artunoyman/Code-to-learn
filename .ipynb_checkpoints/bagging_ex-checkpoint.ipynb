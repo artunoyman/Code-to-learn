{
 "cells": [
  {
   "cell_type": "markdown",
   "id": "5359ad02",
   "metadata": {},
   "source": [
    "# Bagging (Bootstrap Aggregating) Implementation and Comparison\n",
    "\n",
    "This notebook demonstrates the implementation and usage of Bagging (Bootstrap Aggregating), a powerful ensemble learning technique. We'll compare a custom implementation with scikit-learn's built-in BaggingClassifier.\n",
    "\n",
    "## Theory Overview\n",
    "\n",
    "### What is Bagging?\n",
    "Bagging (Bootstrap Aggregating) is an ensemble method that:\n",
    "1. Creates multiple subsets of the original dataset using bootstrap sampling (sampling with replacement)\n",
    "2. Trains a base model on each subset\n",
    "3. Combines predictions through voting (for classification) or averaging (for regression)\n",
    "\n",
    "### Advantages of Bagging\n",
    "- Reduces overfitting\n",
    "- Decreases variance while maintaining the bias\n",
    "- Provides parallel processing opportunities\n",
    "- Works well with high-variance algorithms (e.g., decision trees)\n",
    "\n",
    "### Common Applications\n",
    "- Random Forests (which use bagging with decision trees)\n",
    "- Ensemble methods for various machine learning tasks\n",
    "- Robust prediction in noisy environments"
   ]
  },
  {
   "cell_type": "markdown",
   "id": "bfabc7db",
   "metadata": {},
   "source": [
    "## 1. Setup and Imports"
   ]
  },
  {
   "cell_type": "code",
   "execution_count": 1,
   "id": "c7b6dddd",
   "metadata": {},
   "outputs": [],
   "source": [
    "import numpy as np\n",
    "from sklearn.tree import DecisionTreeClassifier\n",
    "from sklearn.ensemble import BaggingClassifier as SklearnBaggingClassifier\n",
    "from sklearn.metrics import accuracy_score\n",
    "from sklearn.datasets import load_iris\n",
    "from sklearn.model_selection import train_test_split\n",
    "\n",
    "# Set random seed for reproducibility\n",
    "np.random.seed(42)"
   ]
  },
  {
   "cell_type": "markdown",
   "id": "8e38a5cb",
   "metadata": {},
   "source": [
    "## 2. Custom Bagging Classifier Implementation\n",
    "\n",
    "We'll implement a custom bagging classifier that follows these steps:\n",
    "1. Bootstrap sampling of the training data\n",
    "2. Training base models on bootstrap samples\n",
    "3. Aggregating predictions using majority voting"
   ]
  },
  {
   "cell_type": "code",
   "execution_count": 2,
   "id": "8cf0064f",
   "metadata": {},
   "outputs": [],
   "source": [
    "class CustomBaggingClassifier:\n",
    "    def __init__(self, base_estimator=None, n_estimators=10):\n",
    "        \"\"\"\n",
    "        Initialize the Custom Bagging Classifier\n",
    "        \n",
    "        Parameters:\n",
    "            base_estimator: The base model to use (default: DecisionTreeClassifier)\n",
    "            n_estimators: Number of base estimators to train (default: 10)\n",
    "        \"\"\"\n",
    "        self.base_estimator = base_estimator or DecisionTreeClassifier()\n",
    "        self.n_estimators = n_estimators\n",
    "        self.estimators = []\n",
    "    \n",
    "    def _bootstrap_sample(self, X, y):\n",
    "        \"\"\"\n",
    "        Create a bootstrap sample of the dataset\n",
    "        \n",
    "        Parameters:\n",
    "            X: Features array\n",
    "            y: Target array\n",
    "            \n",
    "        Returns:\n",
    "            X_sample, y_sample: Bootstrap sample of features and targets\n",
    "        \"\"\"\n",
    "        n_samples = X.shape[0]\n",
    "        indices = np.random.choice(n_samples, size=n_samples, replace=True)\n",
    "        return X[indices], y[indices]\n",
    "    \n",
    "    def fit(self, X, y):\n",
    "        \"\"\"\n",
    "        Fit the bagging classifier\n",
    "        \n",
    "        Parameters:\n",
    "            X: Training features\n",
    "            y: Training targets\n",
    "        \"\"\"\n",
    "        self.estimators = []\n",
    "        \n",
    "        for _ in range(self.n_estimators):\n",
    "            # Create bootstrap sample\n",
    "            X_sample, y_sample = self._bootstrap_sample(X, y)\n",
    "            \n",
    "            # Create and train a new estimator\n",
    "            estimator = clone_estimator(self.base_estimator)\n",
    "            estimator.fit(X_sample, y_sample)\n",
    "            \n",
    "            self.estimators.append(estimator)\n",
    "    \n",
    "    def predict(self, X):\n",
    "        \"\"\"\n",
    "        Predict using majority voting\n",
    "        \n",
    "        Parameters:\n",
    "            X: Features to predict\n",
    "            \n",
    "        Returns:\n",
    "            predictions: Predicted classes\n",
    "        \"\"\"\n",
    "        predictions = np.array([estimator.predict(X) for estimator in self.estimators])\n",
    "        return np.apply_along_axis(lambda x: np.bincount(x).argmax(), axis=0, arr=predictions)\n",
    "\n",
    "def clone_estimator(estimator):\n",
    "    \"\"\"Helper function to clone an estimator with the same parameters\"\"\"\n",
    "    return type(estimator)(**estimator.get_params())"
   ]
  },
  {
   "cell_type": "markdown",
   "id": "d0e91037",
   "metadata": {},
   "source": [
    "## 3. Data Preparation\n",
    "\n",
    "We'll use the Iris dataset, a classic machine learning dataset with:\n",
    "- 150 samples\n",
    "- 4 features (sepal length, sepal width, petal length, petal width)\n",
    "- 3 classes of iris plants"
   ]
  },
  {
   "cell_type": "code",
   "execution_count": 3,
   "id": "5e2da10e",
   "metadata": {},
   "outputs": [
    {
     "name": "stdout",
     "output_type": "stream",
     "text": [
      "Dataset shapes:\n",
      "Training set: (120, 4)\n",
      "Testing set: (30, 4)\n"
     ]
    }
   ],
   "source": [
    "# Load and split the data\n",
    "iris = load_iris()\n",
    "X, y = iris.data, iris.target\n",
    "\n",
    "# Split into training and testing sets\n",
    "X_train, X_test, y_train, y_test = train_test_split(\n",
    "    X, y, test_size=0.2, random_state=42\n",
    ")\n",
    "\n",
    "print(\"Dataset shapes:\")\n",
    "print(f\"Training set: {X_train.shape}\")\n",
    "print(f\"Testing set: {X_test.shape}\")"
   ]
  },
  {
   "cell_type": "markdown",
   "id": "87b9357f",
   "metadata": {},
   "source": [
    "## 4. Model Training and Comparison\n",
    "\n",
    "We'll compare three models:\n",
    "1. Single Decision Tree (baseline)\n",
    "2. Custom Bagging Classifier\n",
    "3. Scikit-learn's Bagging Classifier"
   ]
  },
  {
   "cell_type": "code",
   "execution_count": 5,
   "id": "57a27193",
   "metadata": {},
   "outputs": [
    {
     "name": "stdout",
     "output_type": "stream",
     "text": [
      "Model Accuracy Comparison:\n",
      "Single Decision Tree: 1.0000\n",
      "Custom Bagging: 1.0000\n",
      "Scikit-learn Bagging: 1.0000\n"
     ]
    }
   ],
   "source": [
    "# 1. Single Decision Tree\n",
    "single_tree = DecisionTreeClassifier(random_state=42)\n",
    "single_tree.fit(X_train, y_train)\n",
    "single_tree_pred = single_tree.predict(X_test)\n",
    "single_tree_acc = accuracy_score(y_test, single_tree_pred)\n",
    "\n",
    "# 2. Custom Bagging Classifier\n",
    "custom_bagging = CustomBaggingClassifier(\n",
    "    base_estimator=DecisionTreeClassifier(random_state=42),\n",
    "    n_estimators=10\n",
    ")\n",
    "custom_bagging.fit(X_train, y_train)\n",
    "custom_bagging_pred = custom_bagging.predict(X_test)\n",
    "custom_bagging_acc = accuracy_score(y_test, custom_bagging_pred)\n",
    "\n",
    "# 3. Scikit-learn Bagging Classifier\n",
    "sklearn_bagging = SklearnBaggingClassifier(\n",
    "    estimator=DecisionTreeClassifier(random_state=42),\n",
    "    n_estimators=10,\n",
    "    random_state=42\n",
    ")\n",
    "sklearn_bagging.fit(X_train, y_train)\n",
    "sklearn_bagging_pred = sklearn_bagging.predict(X_test)\n",
    "sklearn_bagging_acc = accuracy_score(y_test, sklearn_bagging_pred)\n",
    "\n",
    "# Print results\n",
    "print(\"Model Accuracy Comparison:\")\n",
    "print(f\"Single Decision Tree: {single_tree_acc:.4f}\")\n",
    "print(f\"Custom Bagging: {custom_bagging_acc:.4f}\")\n",
    "print(f\"Scikit-learn Bagging: {sklearn_bagging_acc:.4f}\")"
   ]
  },
  {
   "cell_type": "markdown",
   "id": "bbfafda7",
   "metadata": {},
   "source": [
    "## 5. Results Visualization\n",
    "\n",
    "Let's visualize the decision boundaries of our models using the first two features of the Iris dataset."
   ]
  },
  {
   "cell_type": "code",
   "execution_count": 7,
   "id": "9a3a27ef",
   "metadata": {},
   "outputs": [
    {
     "data": {
      "image/png": "[encoded data removed]",
      "text/plain": [
       "<Figure size 1500x500 with 3 Axes>"
      ]
     },
     "metadata": {},
     "output_type": "display_data"
    }
   ],
   "source": [
    "import matplotlib.pyplot as plt\n",
    "\n",
    "def plot_decision_boundary(model, X, y, title, extra_features):\n",
    "    \"\"\"Plot decision boundary and scatter plot of the data\"\"\"\n",
    "    h = 0.02  # step size in the mesh\n",
    "    x_min, x_max = X[:, 0].min() - 1, X[:, 0].max() + 1\n",
    "    y_min, y_max = X[:, 1].min() - 1, X[:, 1].max() + 1\n",
    "    xx, yy = np.meshgrid(np.arange(x_min, x_max, h),\n",
    "                         np.arange(y_min, y_max, h))\n",
    "\n",
    "    # Prepare the mesh for prediction: add the extra features as constant columns\n",
    "    X_mesh = np.c_[xx.ravel(), yy.ravel()]\n",
    "    extra = np.tile(extra_features, (X_mesh.shape[0], 1))\n",
    "    X_full = np.hstack((X_mesh, extra))\n",
    "\n",
    "    # Make predictions on the mesh\n",
    "    Z = model.predict(X_full)\n",
    "    Z = Z.reshape(xx.shape)\n",
    "\n",
    "    # Plot the decision boundary\n",
    "    plt.contourf(xx, yy, Z, alpha=0.4)\n",
    "    plt.scatter(X[:, 0], X[:, 1], c=y, alpha=0.8)\n",
    "    plt.title(title)\n",
    "    plt.xlabel(iris.feature_names[0])\n",
    "    plt.ylabel(iris.feature_names[1])\n",
    "\n",
    "# Calculate the mean of the extra features from your training data\n",
    "extra_features_mean = np.mean(X_train[:, 2:], axis=0)\n",
    "\n",
    "# Use only first two features for visualization\n",
    "X_vis = X_test[:, :2]\n",
    "y_vis = y_test\n",
    "\n",
    "plt.figure(figsize=(15, 5))\n",
    "plt.subplot(131)\n",
    "plot_decision_boundary(single_tree, X_vis, y_vis, 'Single Decision Tree', extra_features_mean)\n",
    "plt.subplot(132)\n",
    "plot_decision_boundary(custom_bagging, X_vis, y_vis, 'Custom Bagging', extra_features_mean)\n",
    "plt.subplot(133)\n",
    "plot_decision_boundary(sklearn_bagging, X_vis, y_vis, 'Scikit-learn Bagging', extra_features_mean)\n",
    "\n",
    "plt.tight_layout()\n",
    "plt.show()\n"
   ]
  },
  {
   "cell_type": "code",
   "execution_count": null,
   "id": "c11ec6f9-c45d-4c79-b0b6-bdf4743d6986",
   "metadata": {},
   "outputs": [],
   "source": []
  }
 ],
 "metadata": {
  "kernelspec": {
   "display_name": "Python 3 (ipykernel)",
   "language": "python",
   "name": "python3"
  },
  "language_info": {
   "codemirror_mode": {
    "name": "ipython",
    "version": 3
   },
   "file_extension": ".py",
   "mimetype": "text/x-python",
   "name": "python",
   "nbconvert_exporter": "python",
   "pygments_lexer": "ipython3",
   "version": "3.12.7"
  }
 },
 "nbformat": 4,
 "nbformat_minor": 5
}
