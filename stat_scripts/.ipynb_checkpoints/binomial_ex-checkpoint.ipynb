{
 "cells": [
  {
   "cell_type": "markdown",
   "metadata": {},
   "source": [
    "# Binomial Example\n",
    "\n",
    "In this notebook, we calculate the probability of a player hitting a target exactly 7 times out of 10 shots, given a 70% chance of hitting the target with each shot. The computation uses the binomial probability formula."
   ]
  },
  {
   "cell_type": "code",
   "execution_count": null,
   "metadata": {},
   "outputs": [],
   "source": [
    "from scipy.special import comb\n",
    "\n",
    "# Probability of hitting the target\n",
    "p = 0.7\n",
    "\n",
    "# Number of shots\n",
    "n = 10\n",
    "\n",
    "# Number of times the target is hit\n",
    "k = 7\n",
    "\n",
    "# Calculate the probability using the explicit formula\n",
    "probability = comb(n, k) * (p ** k) * ((1 - p) ** (n - k))\n",
    "\n",
    "# Print the result\n",
    "print(f\"The probability of hitting the target exactly {k} times out of {n} shots is: {probability:.4f}\")"
   ]
  }
 ],
 "metadata": {
  "kernelspec": {
   "display_name": "Python 3",
   "language": "python",
   "name": "python3"
  },
  "language_info": {
   "file_extension": ".py",
   "mimetype": "text/x-python",
   "name": "python",
   "version": "3.x"
  }
 },
 "nbformat": 4,
 "nbformat_minor": 5
}

