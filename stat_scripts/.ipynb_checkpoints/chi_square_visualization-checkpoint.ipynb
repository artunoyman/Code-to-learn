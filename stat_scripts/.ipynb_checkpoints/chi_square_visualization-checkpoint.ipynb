{
 "cells": [
  {
   "cell_type": "markdown",
   "id": "7ccda805",
   "metadata": {},
   "source": [
    "# Visualizing the Chi-Square Distribution and Hypothesis Testing\n",
    "\n",
    "This notebook visualizes the chi-square distribution and demonstrates hypothesis testing using a critical value approach. \n",
    "\n",
    "## Key Concepts:\n",
    "- The chi-square distribution is commonly used in hypothesis testing, particularly for variance tests and categorical data analysis.\n",
    "- The critical value is the threshold at which we reject the null hypothesis (H₀).\n",
    "- The calculated chi-square value from the test statistic is compared to the critical value to make a decision.\n",
    "\n"
   ]
  },
  {
   "cell_type": "code",
   "execution_count": null,
   "id": "618d5cb1",
   "metadata": {},
   "outputs": [],
   "source": [
    "import numpy as np\n",
    "import matplotlib.pyplot as plt\n",
    "import scipy.stats as stats"
   ]
  },
  {
   "cell_type": "markdown",
   "id": "6f9d85d2",
   "metadata": {},
   "source": [
    "## Defining Parameters\n",
    "\n",
    "We define the degrees of freedom (`df`) and significance level (`alpha`). \n",
    "These parameters are essential for determining the chi-square distribution and critical value."
   ]
  },
  {
   "cell_type": "code",
   "execution_count": null,
   "id": "13ea8e9e",
   "metadata": {},
   "outputs": [],
   "source": [
    "# Parameters for the chi-squared distribution\n",
    "df = 5  # Degrees of freedom\n",
    "alpha = 0.05  # Significance level"
   ]
  },
  {
   "cell_type": "markdown",
   "id": "8a17f97a",
   "metadata": {},
   "source": [
    "## Calculating the Critical Value\n",
    "\n",
    "The critical value is obtained using the inverse cumulative distribution function (percent-point function, `ppf`) of the chi-square distribution."
   ]
  },
  {
   "cell_type": "code",
   "execution_count": null,
   "id": "f19e1a28",
   "metadata": {},
   "outputs": [],
   "source": [
    "# Critical value for the chi-squared distribution\n",
    "critical_value = stats.chi2.ppf(1 - alpha, df)\n",
    "print(f\"Critical Value: {critical_value:.2f}\")"
   ]
  },
  {
   "cell_type": "markdown",
   "id": "e09e90c4",
   "metadata": {},
   "source": [
    "## Example Test Statistic\n",
    "\n",
    "We assume a calculated chi-square test statistic and compare it with the critical value."
   ]
  },
  {
   "cell_type": "code",
   "execution_count": null,
   "id": "f0b74f2b",
   "metadata": {},
   "outputs": [],
   "source": [
    "# Example calculated value (should be > critical_value to reject H0)\n",
    "calculated_value = 14\n",
    "print(f\"Calculated Value: {calculated_value}\")"
   ]
  },
  {
   "cell_type": "markdown",
   "id": "59581d8d",
   "metadata": {},
   "source": [
    "## Visualizing the Chi-Square Distribution\n",
    "\n",
    "We plot the chi-square probability density function (PDF) and highlight the rejection region (tail area beyond the critical value)."
   ]
  },
  {
   "cell_type": "code",
   "execution_count": null,
   "id": "c79ebcac",
   "metadata": {},
   "outputs": [],
   "source": [
    "# x values for the chi-squared distribution\n",
    "x = np.linspace(0, 25, 500)\n",
    "y = stats.chi2.pdf(x, df)\n",
    "\n",
    "plt.figure(figsize=(8, 5))\n",
    "plt.plot(x, y, label=f'Chi-Squared PDF (df={df})')\n",
    "\n",
    "# Fill area beyond critical value (tail area)\n",
    "x_tail = np.linspace(critical_value, 25, 500)\n",
    "y_tail = stats.chi2.pdf(x_tail, df)\n",
    "plt.fill_between(x_tail, y_tail, color='red', alpha=0.3, label=f'α = {alpha}')\n",
    "\n",
    "# Plot critical value line\n",
    "plt.axvline(x=critical_value, color='red', linestyle='--', linewidth=2, label=f'Critical Value ≈ {critical_value:.2f}')\n",
    "# Plot calculated value line\n",
    "plt.axvline(x=calculated_value, color='green', linestyle='--', linewidth=2, label=f'Calculated Value = {calculated_value}')\n",
    "\n",
    "plt.xlabel('Chi-Squared Value')\n",
    "plt.ylabel('Probability Density')\n",
    "plt.title('Chi-Squared Distribution and Decision Rule')\n",
    "plt.legend()\n",
    "plt.grid(True)\n",
    "plt.show()"
   ]
  },
  {
   "cell_type": "markdown",
   "id": "5aef56dd",
   "metadata": {},
   "source": [
    "## Calculating the p-Value\n",
    "\n",
    "The p-value is the probability of observing a test statistic as extreme as the calculated value under the null hypothesis. \n",
    "If the p-value is less than `alpha`, we reject the null hypothesis."
   ]
  },
  {
   "cell_type": "code",
   "execution_count": null,
   "id": "3e570fb0",
   "metadata": {},
   "outputs": [],
   "source": [
    "# Compute p-value\n",
    "p_value = stats.chi2.sf(calculated_value, df)  # Survival function (1 - CDF)\n",
    "print(f\"p-value: {p_value:.4f}\")"
   ]
  },
  {
   "cell_type": "markdown",
   "id": "f434fb16",
   "metadata": {},
   "source": [
    "## Decision Rule\n",
    "\n",
    "- If `calculated_value > critical_value`, we **reject** the null hypothesis.\n",
    "- If `p_value < alpha`, we **reject** the null hypothesis.\n",
    "\n",
    "Let's check our decision."
   ]
  },
  {
   "cell_type": "code",
   "execution_count": null,
   "id": "cc00f340",
   "metadata": {},
   "outputs": [],
   "source": [
    "if calculated_value > critical_value:\n",
    "    print(\"Reject the null hypothesis (H₀).\")\n",
    "else:\n",
    "    print(\"Fail to reject the null hypothesis (H₀).\")\n",
    "\n",
    "if p_value < alpha:\n",
    "    print(\"Reject the null hypothesis based on p-value.\")\n",
    "else:\n",
    "    print(\"Fail to reject the null hypothesis based on p-value.\")"
   ]
  }
 ],
 "metadata": {},
 "nbformat": 4,
 "nbformat_minor": 5
}