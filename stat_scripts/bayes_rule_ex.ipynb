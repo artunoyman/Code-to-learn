{
 "cells": [
  {
   "cell_type": "markdown",
   "id": "a82c9d30",
   "metadata": {},
   "source": [
    "# Bayes' Theorem Calculation\n",
    "\n",
    "This notebook demonstrates the calculation of posterior probabilities using Bayes' theorem.\n",
    "\n",
    "### Explanation\n",
    "\n",
    "1. **Prior Probability (P(H))**:\n",
    "   - Initial beliefs about each hypothesis before observing any data:\n",
    "     - P(A) = 0.3\n",
    "     - P(B) = 0.2\n",
    "     - P(C) = 0.5\n",
    "\n",
    "2. **Likelihood (P(Data | H))**:\n",
    "   - The probability of observing the data given that a particular hypothesis is true:\n",
    "     - P(Data | A) = 0.8\n",
    "     - P(Data | B) = 0.5\n",
    "     - P(Data | C) = 0.2\n",
    "\n",
    "3. **Evidence (Normalization Constant)**:\n",
    "   - Overall probability of the observed data under all hypotheses:\n",
    "     $\n",
    "     P(\\text{Data}) = (0.8 \\times 0.3) + (0.5 \\times 0.2) + (0.2 \\times 0.5)\n",
    "     $\n",
    "\n",
    "4. **Posterior Probability (P(H | Data))**:\n",
    "   - Updated beliefs after observing the data:\n",
    "     $\n",
    "     P(H | \\text{Data}) = \\frac{P(\\text{Data} | H) \\times P(H)}{P(\\text{Data})}\n",
    "     $\n",
    "\n",
    "The following cells contain the Python code to perform these calculations."
   ]
  },
  {
   "cell_type": "code",
   "execution_count": 1,
   "id": "a8e1b45a",
   "metadata": {},
   "outputs": [
    {
     "name": "stdout",
     "output_type": "stream",
     "text": [
      "Posterior probability for hypothesis A: 0.5455\n",
      "Posterior probability for hypothesis B: 0.2273\n",
      "Posterior probability for hypothesis C: 0.2273\n"
     ]
    }
   ],
   "source": [
    "# Define prior probabilities\n",
    "p_A = 0.3  # Prior for hypothesis A\n",
    "p_B = 0.2  # Prior for hypothesis B\n",
    "p_C = 0.5  # Prior for hypothesis C\n",
    "\n",
    "# Define likelihoods (P(Data | H))\n",
    "likelihood_A = 0.8  # Likelihood of data given hypothesis A\n",
    "likelihood_B = 0.5  # Likelihood of data given hypothesis B\n",
    "likelihood_C = 0.2  # Likelihood of data given hypothesis C\n",
    "\n",
    "# Calculate the evidence (normalization constant)\n",
    "# Evidence = (likelihood_A * p_A) + (likelihood_B * p_B) + (likelihood_C * p_C)\n",
    "evidence = (likelihood_A * p_A) + (likelihood_B * p_B) + (likelihood_C * p_C)\n",
    "\n",
    "# Calculate the posterior probabilities using Bayes' theorem\n",
    "# P(H | Data) = (P(Data | H) * P(H)) / Evidence\n",
    "posterior_A = (likelihood_A * p_A) / evidence\n",
    "posterior_B = (likelihood_B * p_B) / evidence\n",
    "posterior_C = (likelihood_C * p_C) / evidence\n",
    "\n",
    "# Display the results\n",
    "print(\"Posterior probability for hypothesis A: {:.4f}\".format(posterior_A))\n",
    "print(\"Posterior probability for hypothesis B: {:.4f}\".format(posterior_B))\n",
    "print(\"Posterior probability for hypothesis C: {:.4f}\".format(posterior_C))"
   ]
  }
 ],
 "metadata": {
  "kernelspec": {
   "display_name": "Python 3 (ipykernel)",
   "language": "python",
   "name": "python3"
  },
  "language_info": {
   "codemirror_mode": {
    "name": "ipython",
    "version": 3
   },
   "file_extension": ".py",
   "mimetype": "text/x-python",
   "name": "python",
   "nbconvert_exporter": "python",
   "pygments_lexer": "ipython3",
   "version": "3.12.7"
  }
 },
 "nbformat": 4,
 "nbformat_minor": 5
}
